{
 "cells": [
  {
   "cell_type": "code",
   "execution_count": 3,
   "metadata": {},
   "outputs": [],
   "source": [
    "from collections import deque\n",
    "from imutils.video import VideoStream\n",
    "import numpy as np\n",
    "import argparse\n",
    "import cv2\n",
    "import imutils\n",
    "import time"
   ]
  },
  {
   "cell_type": "code",
   "execution_count": 5,
   "metadata": {},
   "outputs": [
    {
     "ename": "IndentationError",
     "evalue": "unexpected indent (<ipython-input-5-3e39841113f7>, line 39)",
     "output_type": "error",
     "traceback": [
      "\u001b[1;36m  File \u001b[1;32m\"<ipython-input-5-3e39841113f7>\"\u001b[1;36m, line \u001b[1;32m39\u001b[0m\n\u001b[1;33m    pts.append(center)\u001b[0m\n\u001b[1;37m    ^\u001b[0m\n\u001b[1;31mIndentationError\u001b[0m\u001b[1;31m:\u001b[0m unexpected indent\n"
     ]
    }
   ],
   "source": [
    "cv2.namedWindow(\"preview\")\n",
    "vc = cv2.VideoCapture(0)\n",
    "#if vc.isOpened(): # try to get the first frame\n",
    "#    rval, frame = vc.read()\n",
    "#else:\n",
    " #   rval = False\n",
    "pts=[]\n",
    "buffer=64\n",
    "greenLower = (29, 86, 6)\n",
    "#greenUpper = (64, 255, 255)\n",
    "greenUpper = (75, 255, 255)\n",
    "#while rval:\n",
    "while True:\n",
    "    ret,frame = vc.read()\n",
    "    if frame is None:\n",
    "        break\n",
    "    #frame = imutils.resize(frame, width=600)\n",
    "    #using gaussian Blur\n",
    "    blurred = cv2.GaussianBlur(frame, (11, 11), 0)\n",
    "    hsv = cv2.cvtColor(blurred, cv2.COLOR_BGR2HSV)\n",
    "    \n",
    "    mask = cv2.inRange(hsv, greenLower, greenUpper)\n",
    "    #erode washes of the small no-intrested white marks\n",
    "    mask = cv2.erode(mask, None, iterations=2)\n",
    "    #dilate expands intrested whitw marks\n",
    "    mask = cv2.dilate(mask, None, iterations=2)\n",
    "    cnts = cv2.findContours(mask.copy(), cv2.RETR_EXTERNAL,\n",
    "                            cv2.CHAIN_APPROX_SIMPLE)\n",
    "    cnts = imutils.grab_contours(cnts)\n",
    "    if len(cnts) > 0:\n",
    "        c = max(cnts, key=cv2.contourArea)\n",
    "        ((x, y), radius) = cv2.minEnclosingCircle(c)\n",
    "        M = cv2.moments(c)\n",
    "        center = (int(M[\"m10\"] / M[\"m00\"]), int(M[\"m01\"] / M[\"m00\"]))\n",
    "        if radius > 10:\n",
    "            cv2.circle(frame, (int(x), int(y)), int(radius),\n",
    "                       (0, 255, 255), 2)\n",
    "            cv2.circle(frame, center, 5, (0, 0, 255), -1)\n",
    "             pts.append(center)\n",
    "    for i in range(1, len(pts)):\n",
    "        if pts[i - 1] is None or pts[i] is None:\n",
    "            continue\n",
    "        thickness = int(np.sqrt(buffer / float(i + 1)) * 2.5)\n",
    "        cv2.line(frame, pts[i - 1], pts[i], (0, 0, 255), thickness)\n",
    "    cv2.imshow(\"Frame\", frame)\n",
    "    key = cv2.waitKey(1) & 0xFF\n",
    "if key == ord(\"q\"):\n",
    "        break\n",
    "#if not args.get(\"video\", False):\n",
    "   # vc.stop()\n",
    "#else:\n",
    "vc.release()\n",
    "cv2.destroyAllWindows()"
   ]
  },
  {
   "cell_type": "code",
   "execution_count": null,
   "metadata": {},
   "outputs": [],
   "source": []
  }
 ],
 "metadata": {
  "kernelspec": {
   "display_name": "Python 3",
   "language": "python",
   "name": "python3"
  },
  "language_info": {
   "codemirror_mode": {
    "name": "ipython",
    "version": 3
   },
   "file_extension": ".py",
   "mimetype": "text/x-python",
   "name": "python",
   "nbconvert_exporter": "python",
   "pygments_lexer": "ipython3",
   "version": "3.6.7"
  }
 },
 "nbformat": 4,
 "nbformat_minor": 2
}
